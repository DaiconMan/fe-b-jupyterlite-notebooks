{
  "cells": [
    {
      "cell_type": "markdown",
      "metadata": {},
      "source": [
        "# 科目B デモノート\n\n素数判定の**ループ境界**と、二重ハッシュ挿入の**トレース**をその場で見せるための最小デモです。"
      ]
    },
    {
      "cell_type": "markdown",
      "metadata": {},
      "source": [
        "## A. 素数トレース（平方根までの割り切れチェック）"
      ]
    },
    {
      "cell_type": "code",
      "metadata": {},
      "execution_count": null,
      "outputs": [],
      "source": [
        "\nimport math\nimport ipywidgets as widgets\nfrom IPython.display import display, HTML, clear_output\n\nmax_n = widgets.IntSlider(description=\"max\", min=10, max=200, value=30)\ni_val = widgets.IntSlider(description=\"i\", min=2, max=200, value=10)\n\nout = widgets.Output()\n\ndef is_prime(x):\n    if x < 2: return False\n    for j in range(2, int(math.isqrt(x)) + 1):\n        if x % j == 0:\n            return False\n    return True\n\ndef render(*_):\n    with out:\n        clear_output()\n        primes = [x for x in range(2, max_n.value+1) if is_prime(x)]\n        # show primes\n        display(HTML(\"<b>素数一覧:</b> \" + \", \".join(map(str, primes))))\n        # trace i\n        rows = []\n        for j in range(2, int(math.isqrt(i_val.value)) + 1):\n            rows.append((i_val.value, j, i_val.value % j, \"○\" if i_val.value % j == 0 else \"\"))\n        html = \"<table><tr><th>i</th><th>j</th><th>i%j</th><th>割り切れる?</th></tr>\" + \\\n               \"\".join(f\"<tr><td>{r[0]}</td><td>{r[1]}</td><td>{r[2]}</td><td>{r[3]}</td></tr>\" for r in rows) + \\\n               \"</table>\"\n        display(HTML(html))\n\nfor w in (max_n, i_val):\n    w.observe(render, names=\"value\")\ndisplay(widgets.VBox([max_n, i_val, out]))\nrender()\n"
      ]
    },
    {
      "cell_type": "markdown",
      "metadata": {},
      "source": [
        "---\n## B. 二重ハッシュ（配列1始まり）"
      ]
    },
    {
      "cell_type": "code",
      "metadata": {},
      "execution_count": null,
      "outputs": [],
      "source": [
        "\nimport ipywidgets as widgets\nfrom IPython.display import display, HTML, clear_output\n\nvalues = widgets.SelectMultiple(\n    options=[3,11,18,21,26,31],\n    value=(3,18,11),\n    description=\"挿入する値\",\n)\nout = widgets.Output()\n\ndef h1(x, m=5): return (x % m) + 1\ndef h2(x, m=5): return ((x + 3) % m) + 1\n\ndef run(*_):\n    with out:\n        clear_output()\n        m=5\n        T=[-1]*(m+1)  # 1-indexed\n        rows=[]\n        for v in values.value:\n            p1=h1(v,m)\n            if T[p1]==-1:\n                T[p1]=v\n                rows.append((v,p1,\"-\",p1,\"OK\"))\n            else:\n                p2=h2(v,m)\n                if T[p2]==-1:\n                    T[p2]=v\n                    rows.append((v,p1,p2,p2,\"OK(代替)\"))\n                else:\n                    rows.append((v,p1,p2,\"-\",\"失敗\"))\n        html = \"<table><tr><th>v</th><th>h1(v)</th><th>h2(v)</th><th>格納位置</th><th>結果</th></tr>\" + \\\n               \"\".join(f\"<tr><td>{a}</td><td>{b}</td><td>{c}</td><td>{d}</td><td>{e}</td></tr>\" for a,b,c,d,e in rows) + \\\n               \"</table>\"\n        display(HTML(html))\n        table = \"<table><tr>\" + \"\".join(f\"<th>{i}</th>\" for i in range(1,m+1)) + \"</tr><tr>\" + \\\n                \"\".join(f\"<td>{T[i]}</td>\" for i in range(1,m+1)) + \"</tr></table>\"\n        display(HTML(\"<b>T (1始まり)</b>\" + table))\n\nvalues.observe(run, names=\"value\")\ndisplay(values, out)\nrun()\n"
      ]
    }
  ],
  "metadata": {
    "kernelspec": {
      "display_name": "Python 3",
      "language": "python",
      "name": "python3"
    },
    "language_info": {
      "name": "python",
      "version": "3.11"
    }
  },
  "nbformat": 4,
  "nbformat_minor": 5
}
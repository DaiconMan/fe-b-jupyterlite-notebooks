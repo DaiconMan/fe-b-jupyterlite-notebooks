{
  "cells": [
    {
      "cell_type": "markdown",
      "metadata": {},
      "source": [
        "# A-01: 素数判定のループ境界\n\n2以上max以下の整数iについて、jを2から⌊√i⌋まで増やして割り切れるかを調べる。ループ境界として適切なのはどれか。\n\n**選択肢**\n1) j = 2 から i − 1 まで\n2) j = 2 から i まで\n3) j = 2 から ⌊√i⌋ まで\n4) j = 1 から ⌊√i⌋ まで"
      ]
    },
    {
      "cell_type": "code",
      "metadata": {},
      "execution_count": null,
      "outputs": [],
      "source": [
        "\n# --- Ensure ipywidgets is available (JupyterLite/regular Jupyter) ---\ntry:\n    import ipywidgets as widgets  # already installed?\nexcept ModuleNotFoundError:\n    try:\n        import piplite  # JupyterLite (Pyodide)\n        await piplite.install(['ipywidgets'])\n    except Exception as e:\n        print(\"piplite install failed or not JupyterLite:\", e)\n    import ipywidgets as widgets\n"
      ]
    },
    {
      "cell_type": "code",
      "metadata": {},
      "execution_count": null,
      "outputs": [],
      "source": [
        "\nfrom IPython.display import display, Markdown, clear_output\n\nopts = ['j = 2 から i − 1 まで', 'j = 2 から i まで', 'j = 2 から ⌊√i⌋ まで', 'j = 1 から ⌊√i⌋ まで']\ncorrect = 2\nradio = widgets.RadioButtons(options=[(f\"{i+1}) \" + o, i) for i,o in enumerate(opts)], description=\"選択\")\nbtn = widgets.Button(description=\"判定\")\nout = widgets.Output()\n\ndef on_click(_):\n    with out:\n        clear_output()\n        if radio.value == correct:\n            display(Markdown(\"**✅ 正解！**\"))\n        else:\n            display(Markdown(\"**❌ 不正解**\"))\n        display(Markdown(\"**解説**: 平方根までで十分。j=1は除外。\"))\n\nbtn.on_click(on_click)\ndisplay(radio, btn, out)\n"
      ]
    }
  ],
  "metadata": {
    "kernelspec": {
      "display_name": "Python 3",
      "language": "python",
      "name": "python3"
    },
    "language_info": {
      "name": "python",
      "version": "3.11"
    }
  },
  "nbformat": 4,
  "nbformat_minor": 5
}
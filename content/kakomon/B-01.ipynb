{
  "cells": [
    {
      "cell_type": "markdown",
      "metadata": {},
      "source": [
        "# B-01: 二重ハッシュの挿入先\n\nT[1..5]を-1で初期化。h1(x)=(x mod 5)+1, h2(x)=((x+3) mod 5)+1。3,18,11を順に挿入した後のTは？\n\n**選択肢**\n1) { -1, 18, -1, 3, 11 }\n2) {  3, 18, -1, -1, 11 }\n3) { -1, 18, 11, 3, -1 }\n4) { -1, -1, 18, 3, 11 }"
      ]
    },
    {
      "cell_type": "code",
      "metadata": {},
      "execution_count": null,
      "outputs": [],
      "source": [
        "\n# --- Ensure ipywidgets is available (JupyterLite/regular Jupyter) ---\ntry:\n    import ipywidgets as widgets  # already installed?\nexcept ModuleNotFoundError:\n    try:\n        import piplite  # JupyterLite (Pyodide)\n        await piplite.install(['ipywidgets'])\n    except Exception as e:\n        print(\"piplite install failed or not JupyterLite:\", e)\n    import ipywidgets as widgets\n"
      ]
    },
    {
      "cell_type": "code",
      "metadata": {},
      "execution_count": null,
      "outputs": [],
      "source": [
        "\nfrom IPython.display import display, Markdown, clear_output\n\nopts = ['{ -1, 18, -1, 3, 11 }', '{  3, 18, -1, -1, 11 }', '{ -1, 18, 11, 3, -1 }', '{ -1, -1, 18, 3, 11 }']\ncorrect = 0\nradio = widgets.RadioButtons(options=[(f\"{i+1}) \" + o, i) for i,o in enumerate(opts)], description=\"選択\")\nbtn = widgets.Button(description=\"判定\")\nout = widgets.Output()\n\ndef on_click(_):\n    with out:\n        clear_output()\n        if radio.value == correct:\n            display(Markdown(\"**✅ 正解！**\"))\n        else:\n            display(Markdown(\"**❌ 不正解**\"))\n        display(Markdown(\"**解説**: 3→h1=4, 18→h1=4衝突→h2=2, 11→h1=2衝突→h2=5。\"))\n\nbtn.on_click(on_click)\ndisplay(radio, btn, out)\n"
      ]
    }
  ],
  "metadata": {
    "kernelspec": {
      "display_name": "Python 3",
      "language": "python",
      "name": "python3"
    },
    "language_info": {
      "name": "python",
      "version": "3.11"
    }
  },
  "nbformat": 4,
  "nbformat_minor": 5
}
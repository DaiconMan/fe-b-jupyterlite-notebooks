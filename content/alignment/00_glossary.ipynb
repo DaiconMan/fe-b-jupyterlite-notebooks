{
  "cells": [
    {
      "cell_type": "markdown",
      "metadata": {},
      "source": [
        "# 擬似言語 ↔ Python グロッサリ（科目B向け最小セット）"
      ]
    },
    {
      "cell_type": "markdown",
      "metadata": {},
      "source": [
        "\n| 擬似言語 | Pythonでの書き方（このリポの約束） |\n|---|---|\n| 配列 `A[1..N]` | `OneBasedList(N)` |\n| `A[i] ← v` | `A[i] = v` |\n| `ans の末尾に x を追加` | `ans.append(x)` |\n| `for (i を a から b まで 1 ずつ増やす)` | `for i in range_inclusive(a, b):` |\n| `for (i を a から b まで s ずつ)` | `for i in range_inclusive(a, b, s):` |\n| `i ÷ j の余り` | `i % j` |\n| `繰返し処理を終了する` | `break` |\n| `⌊√i⌋` | `isqrt(i)` |\n| 配列は **1始まり** | `OneBasedList` を使う（生のPythonリストは0始まり） |\n"
      ]
    },
    {
      "cell_type": "code",
      "metadata": {},
      "execution_count": null,
      "outputs": [],
      "source": [
        "\n# --- Ensure ipywidgets is available (JupyterLite/regular Jupyter) ---\ntry:\n    import ipywidgets as widgets\nexcept ModuleNotFoundError:\n    try:\n        import piplite\n        await piplite.install(['ipywidgets'])\n    except Exception as e:\n        print(\"piplite install failed or not JupyterLite:\", e)\n    import ipywidgets as widgets\n"
      ]
    },
    {
      "cell_type": "code",
      "metadata": {},
      "execution_count": null,
      "outputs": [],
      "source": [
        "\n# === IPA擬似言語に寄せるためのユーティリティ ===\nimport math\nfrom typing import List, Iterable\n\ndef range_inclusive(a: int, b: int, step: int = 1) -> Iterable[int]:\n    \"\"\"for (i を a から b まで step ずつ) の完全対応\"\"\"\n    if step == 0: raise ValueError(\"step must be non-zero\")\n    if (a <= b and step > 0):\n        return range(a, b+1, step)\n    if (a >= b and step < 0):\n        return range(a, b-1, step)\n    return range(0)  # empty\n\ndef isqrt(n: int) -> int:\n    \"\"\"⌊√n⌋\"\"\"\n    return math.isqrt(n)\n\nclass OneBasedList:\n    \"\"\"配列[1..N] を Python で表現（1始まり）\"\"\"\n    def __init__(self, length: int, fill=None):\n        self._data = [None] + [fill]*length  # index 1..length\n        self.length = length\n    def __getitem__(self, i: int):\n        return self._data[i]\n    def __setitem__(self, i: int, v):\n        self._data[i] = v\n    def to_list(self):\n        return self._data[1:]\n"
      ]
    }
  ],
  "metadata": {
    "kernelspec": {
      "display_name": "Python 3",
      "language": "python",
      "name": "python3"
    },
    "language_info": {
      "name": "python",
      "version": "3.11"
    }
  },
  "nbformat": 4,
  "nbformat_minor": 5
}
{
  "cells": [
    {
      "cell_type": "markdown",
      "metadata": {},
      "source": [
        "# A: 素数列挙（擬似言語とPythonを**1行対応**）"
      ]
    },
    {
      "cell_type": "code",
      "metadata": {},
      "execution_count": null,
      "outputs": [],
      "source": [
        "\n# --- Ensure ipywidgets is available (JupyterLite/regular Jupyter) ---\ntry:\n    import ipywidgets as widgets\nexcept ModuleNotFoundError:\n    try:\n        import piplite\n        await piplite.install(['ipywidgets'])\n    except Exception as e:\n        print(\"piplite install failed or not JupyterLite:\", e)\n    import ipywidgets as widgets\n"
      ]
    },
    {
      "cell_type": "code",
      "metadata": {},
      "execution_count": null,
      "outputs": [],
      "source": [
        "\n# === IPA擬似言語に寄せるためのユーティリティ ===\nimport math\nfrom typing import List, Iterable\n\ndef range_inclusive(a: int, b: int, step: int = 1) -> Iterable[int]:\n    \"\"\"for (i を a から b まで step ずつ) の完全対応\"\"\"\n    if step == 0: raise ValueError(\"step must be non-zero\")\n    if (a <= b and step > 0):\n        return range(a, b+1, step)\n    if (a >= b and step < 0):\n        return range(a, b-1, step)\n    return range(0)  # empty\n\ndef isqrt(n: int) -> int:\n    \"\"\"⌊√n⌋\"\"\"\n    return math.isqrt(n)\n\nclass OneBasedList:\n    \"\"\"配列[1..N] を Python で表現（1始まり）\"\"\"\n    def __init__(self, length: int, fill=None):\n        self._data = [None] + [fill]*length  # index 1..length\n        self.length = length\n    def __getitem__(self, i: int):\n        return self._data[i]\n    def __setitem__(self, i: int, v):\n        self._data[i] = v\n    def to_list(self):\n        return self._data[1:]\n"
      ]
    },
    {
      "cell_type": "markdown",
      "metadata": {},
      "source": [
        "### 1) 擬似言語（公式の書式イメージ）"
      ]
    },
    {
      "cell_type": "code",
      "metadata": {},
      "execution_count": null,
      "outputs": [],
      "source": [
        "[P1] for (i を 2 から max まで 1 ずつ増やす)\n[P2]   isPrime ← true\n[P3]   for (j を 2 から ⌊√i⌋ まで 1 ずつ増やす)\n[P4]     if ( i ÷ j の余り ＝ 0 ) then\n[P5]       isPrime ← false\n[P6]       繰返し処理を終了する\n[P7]   if (isPrime) then ans の末尾に i を追加\n"
      ]
    },
    {
      "cell_type": "markdown",
      "metadata": {},
      "source": [
        "### 2) Python（擬似言語の番号を**コメントで対応付け**）"
      ]
    },
    {
      "cell_type": "code",
      "metadata": {},
      "execution_count": null,
      "outputs": [],
      "source": [
        "MAX = 50\n# [P1] for (i を 2 から max まで 1 ずつ増やす)\nans = []\nfor i in range_inclusive(2, MAX):\n    # [P2] isPrime ← true\n    isPrime = True\n    # [P3] for (j を 2 から ⌊√i⌋ まで 1 ずつ増やす)\n    for j in range_inclusive(2, isqrt(i)):\n        # [P4] if ( i ÷ j の余り ＝ 0 ) then\n        if i % j == 0:\n            # [P5] isPrime ← false\n            isPrime = False\n            # [P6] 繰返し処理を終了する\n            break\n    # [P7] if (isPrime) then ans の末尾に i を追加\n    if isPrime:\n        ans.append(i)\nans\n"
      ]
    },
    {
      "cell_type": "markdown",
      "metadata": {},
      "source": [
        "### 3) i の挙動をトレース"
      ]
    },
    {
      "cell_type": "code",
      "metadata": {},
      "execution_count": null,
      "outputs": [],
      "source": [
        "\nimport ipywidgets as widgets\nfrom IPython.display import display, HTML, clear_output\n\nMAX = 50\ndef is_prime(i):\n    for j in range_inclusive(2, isqrt(i)):\n        if i % j == 0: return False\n    return i >= 2\n\ni_val = widgets.IntSlider(description=\"i\", min=2, max=50, value=9)\nout = widgets.Output()\n\ndef trace(*_):\n    with out:\n        clear_output()\n        rows = []\n        for j in range_inclusive(2, isqrt(i_val.value)):\n            rows.append((i_val.value, j, i_val.value % j, \"○\" if i_val.value % j == 0 else \"\"))\n        html = \"<table><tr><th>i</th><th>j</th><th>i%j</th><th>割り切れる?</th></tr>\" + \\\n               \"\".join(f\"<tr><td>{r[0]}</td><td>{r[1]}</td><td>{r[2]}</td><td>{r[3]}</td></tr>\" for r in rows) + \\\n               \"</table>\"\n        display(HTML(html))\n\ndisplay(i_val, out); trace()\ni_val.observe(trace, names=\"value\")\n"
      ]
    }
  ],
  "metadata": {
    "kernelspec": {
      "display_name": "Python 3",
      "language": "python",
      "name": "python3"
    },
    "language_info": {
      "name": "python",
      "version": "3.11"
    }
  },
  "nbformat": 4,
  "nbformat_minor": 5
}
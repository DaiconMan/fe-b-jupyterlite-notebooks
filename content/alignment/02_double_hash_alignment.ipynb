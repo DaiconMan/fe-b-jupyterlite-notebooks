{
  "cells": [
    {
      "cell_type": "markdown",
      "metadata": {},
      "source": [
        "# B: 二重ハッシュ（**配列1始まり**を Python で再現）"
      ]
    },
    {
      "cell_type": "code",
      "metadata": {},
      "execution_count": null,
      "outputs": [],
      "source": [
        "\n# --- Ensure ipywidgets is available (JupyterLite/regular Jupyter) ---\ntry:\n    import ipywidgets as widgets\nexcept ModuleNotFoundError:\n    try:\n        import piplite\n        await piplite.install(['ipywidgets'])\n    except Exception as e:\n        print(\"piplite install failed or not JupyterLite:\", e)\n    import ipywidgets as widgets\n"
      ]
    },
    {
      "cell_type": "code",
      "metadata": {},
      "execution_count": null,
      "outputs": [],
      "source": [
        "\n# === IPA擬似言語に寄せるためのユーティリティ ===\nimport math\nfrom typing import List, Iterable\n\ndef range_inclusive(a: int, b: int, step: int = 1) -> Iterable[int]:\n    \"\"\"for (i を a から b まで step ずつ) の完全対応\"\"\"\n    if step == 0: raise ValueError(\"step must be non-zero\")\n    if (a <= b and step > 0):\n        return range(a, b+1, step)\n    if (a >= b and step < 0):\n        return range(a, b-1, step)\n    return range(0)  # empty\n\ndef isqrt(n: int) -> int:\n    \"\"\"⌊√n⌋\"\"\"\n    return math.isqrt(n)\n\nclass OneBasedList:\n    \"\"\"配列[1..N] を Python で表現（1始まり）\"\"\"\n    def __init__(self, length: int, fill=None):\n        self._data = [None] + [fill]*length  # index 1..length\n        self.length = length\n    def __getitem__(self, i: int):\n        return self._data[i]\n    def __setitem__(self, i: int, v):\n        self._data[i] = v\n    def to_list(self):\n        return self._data[1:]\n"
      ]
    },
    {
      "cell_type": "markdown",
      "metadata": {},
      "source": [
        "### 1) 擬似言語"
      ]
    },
    {
      "cell_type": "code",
      "metadata": {},
      "execution_count": null,
      "outputs": [],
      "source": [
        "[H1] T を長さ5の配列(-1で初期化) とする（添字は1始まり）\n[H2] h1(x) = (x mod 5) + 1, h2(x) = ((x+3) mod 5) + 1\n[H3] add(v):\n[H4]   if T[h1(v)] が空(-1)なら T[h1(v)] ← v\n[H5]   else if T[h2(v)] が空なら T[h2(v)] ← v\n[H6]   else 失敗\n"
      ]
    },
    {
      "cell_type": "markdown",
      "metadata": {},
      "source": [
        "### 2) Python（行番号対応）"
      ]
    },
    {
      "cell_type": "code",
      "metadata": {},
      "execution_count": null,
      "outputs": [],
      "source": [
        "# [H1] 配列（1始まり）\nT = OneBasedList(5, fill=-1)\n# [H2] ハッシュ関数（1始まりになるよう +1）\ndef h1(x): return (x % 5) + 1\ndef h2(x): return ((x + 3) % 5) + 1\n\n# [H3] add(v)\ndef add(v):\n    # [H4] まず h1\n    p1 = h1(v)\n    if T[p1] == -1:\n        T[p1] = v\n        return (\"OK\", p1)\n    # [H5] 次に h2\n    p2 = h2(v)\n    if T[p2] == -1:\n        T[p2] = v\n        return (\"OK(代替)\", p2)\n    # [H6] 両方埋まり\n    return (\"失敗\", None)\n\nfor v in (3,18,11):\n    add(v)\nT.to_list()\n"
      ]
    },
    {
      "cell_type": "markdown",
      "metadata": {},
      "source": [
        "### 3) 値を変えてみる"
      ]
    },
    {
      "cell_type": "code",
      "metadata": {},
      "execution_count": null,
      "outputs": [],
      "source": [
        "\nimport ipywidgets as widgets\nfrom IPython.display import display, HTML, clear_output\n\nvals = widgets.SelectMultiple(options=[3,11,18,21,26,31], value=(3,18,11), description=\"挿入\")\nout = widgets.Output()\n\ndef reset():\n    global T\n    T = OneBasedList(5, fill=-1)\n\ndef run(*_):\n    with out:\n        clear_output()\n        reset()\n        rows = []\n        for v in vals.value:\n            status, pos = add(v)\n            rows.append((v, status, pos))\n        html = \"<table><tr><th>v</th><th>結果</th><th>格納位置</th></tr>\" + \\\n               \"\".join(f\"<tr><td>{a}</td><td>{b}</td><td>{c}</td></tr>\" for a,b,c in rows) + \"</table>\"\n        display(HTML(html))\n        display(HTML(\"<b>T (1始まり)</b>: \" + str(T.to_list())))\n\ndisplay(vals, out); run()\nvals.observe(run, names=\"value\")\n"
      ]
    }
  ],
  "metadata": {
    "kernelspec": {
      "display_name": "Python 3",
      "language": "python",
      "name": "python3"
    },
    "language_info": {
      "name": "python",
      "version": "3.11"
    }
  },
  "nbformat": 4,
  "nbformat_minor": 5
}